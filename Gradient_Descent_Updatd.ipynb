{
  "cells": [
    {
      "cell_type": "markdown",
      "metadata": {
        "id": "view-in-github",
        "colab_type": "text"
      },
      "source": [
        "<a href=\"https://colab.research.google.com/github/supreethaR7/100-plus-Python-programming-exercises-extended/blob/master/Gradient_Descent_Updatd.ipynb\" target=\"_parent\"><img src=\"https://colab.research.google.com/assets/colab-badge.svg\" alt=\"Open In Colab\"/></a>"
      ]
    },
    {
      "cell_type": "markdown",
      "metadata": {
        "id": "GwtQDKJGCCiY"
      },
      "source": [
        "## Gradient Descent Implementation"
      ]
    },
    {
      "cell_type": "code",
      "source": [],
      "metadata": {
        "id": "0uLTEmeRCNXU"
      },
      "execution_count": null,
      "outputs": []
    },
    {
      "cell_type": "code",
      "execution_count": null,
      "metadata": {
        "id": "xsSoSzP2CCih"
      },
      "outputs": [],
      "source": [
        "#cf=x**2\n",
        "x=6\n",
        "iter=10000\n",
        "lr=0.01\n",
        "for i in range(iter):\n",
        "    x=x-lr*2*x"
      ]
    },
    {
      "cell_type": "code",
      "execution_count": null,
      "metadata": {
        "id": "alGQeoXcCCil",
        "outputId": "e5710eae-3b39-484b-b53a-3b80506158c6"
      },
      "outputs": [
        {
          "data": {
            "text/plain": [
              "1.0937250910306743e-87"
            ]
          },
          "execution_count": 35,
          "metadata": {},
          "output_type": "execute_result"
        }
      ],
      "source": [
        "x"
      ]
    },
    {
      "cell_type": "code",
      "execution_count": null,
      "metadata": {
        "id": "3naCwXbUCCio"
      },
      "outputs": [],
      "source": [
        "#z=x**2\n",
        "#dz/dx=2x\n",
        "x=6\n",
        "iters=1000\n",
        "ss=0.01\n",
        "for i in range(iters):\n",
        "    x=x-ss*2*x"
      ]
    },
    {
      "cell_type": "code",
      "execution_count": null,
      "metadata": {
        "id": "BZD6fJyPCCip",
        "outputId": "16b5dd53-0ed2-4b86-fd5e-92b35429a7e2"
      },
      "outputs": [
        {
          "data": {
            "text/plain": [
              "1.0097804143295733e-08"
            ]
          },
          "execution_count": 9,
          "metadata": {},
          "output_type": "execute_result"
        }
      ],
      "source": [
        "x"
      ]
    },
    {
      "cell_type": "code",
      "execution_count": null,
      "metadata": {
        "id": "e5ZzbrC-CCiq"
      },
      "outputs": [],
      "source": []
    },
    {
      "cell_type": "code",
      "execution_count": null,
      "metadata": {
        "id": "hvG_v9goCCiq",
        "outputId": "3a4b8a69-2c98-4ce3-c31f-65bb1bb1cc9b"
      },
      "outputs": [
        {
          "name": "stdout",
          "output_type": "stream",
          "text": [
            "1.0097804143295733e-08\n"
          ]
        }
      ],
      "source": [
        "#z=x**2\n",
        "#dz/dx=2x\n",
        "x=6\n",
        "iters=1000\n",
        "lr =0.01\n",
        "for i in range(iters):\n",
        "    #xnew=xold-alpha*dz/dx\n",
        "    x=x-lr*2*x\n",
        "print(x)"
      ]
    },
    {
      "cell_type": "code",
      "execution_count": null,
      "metadata": {
        "id": "8RVQbRu6CCit",
        "outputId": "71b791d7-1394-4795-f8e0-4203f3e2d060"
      },
      "outputs": [
        {
          "name": "stdout",
          "output_type": "stream",
          "text": [
            "0.7957173353685193\n"
          ]
        }
      ],
      "source": [
        "#z=x**2\n",
        "#dz/dx=2x\n",
        "x=6\n",
        "iters=100\n",
        "lr =0.01\n",
        "for i in range(iters):\n",
        "    #xnew=xold-alpha*dz/dx\n",
        "    x=x-lr*2*x\n",
        "print(x)"
      ]
    },
    {
      "cell_type": "code",
      "execution_count": null,
      "metadata": {
        "id": "QrkQ0DZcCCiv",
        "outputId": "9cf04c0b-bad7-4bc6-ee0e-957462036471"
      },
      "outputs": [
        {
          "name": "stdout",
          "output_type": "stream",
          "text": [
            "1.2222215858006927e-09\n"
          ]
        }
      ],
      "source": [
        "#z=x**2\n",
        "#dz/dx=2x\n",
        "x=6\n",
        "iters=100\n",
        "lr =0.1\n",
        "for i in range(iters):\n",
        "    #xnew=xold-alpha*dz/dx\n",
        "    x=x-lr*2*x\n",
        "print(x)"
      ]
    },
    {
      "cell_type": "code",
      "execution_count": null,
      "metadata": {
        "id": "kU8wme1QCCiw",
        "outputId": "dc557d52-b0a9-4ebd-f498-24284cdd28aa"
      },
      "outputs": [
        {
          "name": "stdout",
          "output_type": "stream",
          "text": [
            "0.5312272363557454\n"
          ]
        }
      ],
      "source": [
        "#z=x**2\n",
        "#dz/dx= 2x\n",
        "x=6\n",
        "iters=120\n",
        "lr =0.01\n",
        "for i in range(iters):\n",
        "    x=x-lr*2*x\n",
        "print(x)"
      ]
    },
    {
      "cell_type": "code",
      "execution_count": null,
      "metadata": {
        "id": "pYALlC4CCCiy"
      },
      "outputs": [],
      "source": []
    },
    {
      "cell_type": "code",
      "execution_count": null,
      "metadata": {
        "id": "v1RIiQ_dCCiy"
      },
      "outputs": [],
      "source": []
    },
    {
      "cell_type": "code",
      "execution_count": null,
      "metadata": {
        "id": "aBvKD0hKCCiz"
      },
      "outputs": [],
      "source": []
    },
    {
      "cell_type": "code",
      "execution_count": null,
      "metadata": {
        "id": "JzZSYyObCCiz",
        "outputId": "b76231d9-8884-447d-96b5-67733b80c34b"
      },
      "outputs": [
        {
          "name": "stdout",
          "output_type": "stream",
          "text": [
            "1.2121716541430995e-08\n"
          ]
        }
      ],
      "source": [
        "#z=x**2\n",
        "#dz/dx=2x\n",
        "x=6\n",
        "iters=10000\n",
        "lr = 0.001\n",
        "for i in range(iters):\n",
        "    x=x-lr*2*x\n",
        "print(x)"
      ]
    },
    {
      "cell_type": "code",
      "execution_count": null,
      "metadata": {
        "id": "yU3jIpuhCCi0"
      },
      "outputs": [],
      "source": []
    },
    {
      "cell_type": "code",
      "execution_count": null,
      "metadata": {
        "id": "XFFZeFf_CCi1"
      },
      "outputs": [],
      "source": []
    },
    {
      "cell_type": "code",
      "execution_count": null,
      "metadata": {
        "id": "hzQgnvQVCCi1"
      },
      "outputs": [],
      "source": []
    },
    {
      "cell_type": "code",
      "execution_count": null,
      "metadata": {
        "id": "PY8PeT60CCi2"
      },
      "outputs": [],
      "source": []
    },
    {
      "cell_type": "code",
      "execution_count": null,
      "metadata": {
        "id": "VQvT-790CCi3"
      },
      "outputs": [],
      "source": []
    },
    {
      "cell_type": "code",
      "execution_count": null,
      "metadata": {
        "id": "373Ox6FYCCi3"
      },
      "outputs": [],
      "source": []
    },
    {
      "cell_type": "code",
      "execution_count": null,
      "metadata": {
        "id": "9_9yMB-nCCi4"
      },
      "outputs": [],
      "source": []
    },
    {
      "cell_type": "code",
      "execution_count": null,
      "metadata": {
        "id": "PcZqY_IfCCi4"
      },
      "outputs": [],
      "source": []
    },
    {
      "cell_type": "code",
      "execution_count": null,
      "metadata": {
        "id": "xZxgCqbzCCi4"
      },
      "outputs": [],
      "source": [
        "#z=x**2\n",
        "#dz/dx =2x\n",
        "x=1000\n",
        "iters=10\n",
        "lr =0.1\n",
        "for i in range(iters):\n",
        "    x=x-lr*2*x\n",
        "    "
      ]
    },
    {
      "cell_type": "code",
      "execution_count": null,
      "metadata": {
        "id": "UczNgwZzCCi5",
        "outputId": "0c6d4cb4-4fb0-4a68-a464-904c357799bc"
      },
      "outputs": [
        {
          "data": {
            "text/plain": [
              "107.37418240000002"
            ]
          },
          "execution_count": 14,
          "metadata": {},
          "output_type": "execute_result"
        }
      ],
      "source": [
        "x"
      ]
    },
    {
      "cell_type": "code",
      "execution_count": null,
      "metadata": {
        "id": "VWMeo0-mCCi6",
        "outputId": "e1966d49-3727-4962-df04-bdd5ac1d7d6c"
      },
      "outputs": [
        {
          "data": {
            "text/plain": [
              "4.90243684132528"
            ]
          },
          "execution_count": 6,
          "metadata": {},
          "output_type": "execute_result"
        }
      ],
      "source": [
        "x"
      ]
    },
    {
      "cell_type": "code",
      "execution_count": null,
      "metadata": {
        "id": "QVeg3zL-CCi6",
        "outputId": "784a2aa9-c15e-4e6d-e0f3-f99b3420c70a"
      },
      "outputs": [
        {
          "data": {
            "text/plain": [
              "0.7957173353685193"
            ]
          },
          "execution_count": 4,
          "metadata": {},
          "output_type": "execute_result"
        }
      ],
      "source": [
        "x"
      ]
    },
    {
      "cell_type": "code",
      "execution_count": null,
      "metadata": {
        "id": "GcJsjRHNCCi7",
        "outputId": "6ab4b52b-8569-4185-e0c6-acafcdd480b0"
      },
      "outputs": [
        {
          "data": {
            "text/plain": [
              "1.0097804143295733e-08"
            ]
          },
          "execution_count": 2,
          "metadata": {},
          "output_type": "execute_result"
        }
      ],
      "source": [
        "x"
      ]
    },
    {
      "cell_type": "code",
      "execution_count": null,
      "metadata": {
        "id": "havl4uXiCCi8"
      },
      "outputs": [],
      "source": []
    },
    {
      "cell_type": "code",
      "execution_count": null,
      "metadata": {
        "id": "ym1othQmCCi8"
      },
      "outputs": [],
      "source": []
    },
    {
      "cell_type": "code",
      "execution_count": null,
      "metadata": {
        "id": "mKvIoaIvCCi8"
      },
      "outputs": [],
      "source": []
    },
    {
      "cell_type": "code",
      "execution_count": null,
      "metadata": {
        "id": "kJ3JD0dXCCi8"
      },
      "outputs": [],
      "source": []
    },
    {
      "cell_type": "code",
      "execution_count": null,
      "metadata": {
        "id": "1tG6mZMqCCi9"
      },
      "outputs": [],
      "source": []
    },
    {
      "cell_type": "markdown",
      "metadata": {
        "id": "EKATmc3_CCi9"
      },
      "source": [
        "In this Python notebook we will go through an example of implementing **Gradient Descent** in simple and multiple linear regression, for this we will be using housing dataset."
      ]
    },
    {
      "cell_type": "code",
      "execution_count": null,
      "metadata": {
        "id": "m0kw1ojKCCi-",
        "outputId": "c5ca3457-ebc1-4f95-ebe5-244491170842"
      },
      "outputs": [
        {
          "data": {
            "text/html": [
              "<div>\n",
              "<style scoped>\n",
              "    .dataframe tbody tr th:only-of-type {\n",
              "        vertical-align: middle;\n",
              "    }\n",
              "\n",
              "    .dataframe tbody tr th {\n",
              "        vertical-align: top;\n",
              "    }\n",
              "\n",
              "    .dataframe thead th {\n",
              "        text-align: right;\n",
              "    }\n",
              "</style>\n",
              "<table border=\"1\" class=\"dataframe\">\n",
              "  <thead>\n",
              "    <tr style=\"text-align: right;\">\n",
              "      <th></th>\n",
              "      <th>price</th>\n",
              "      <th>area</th>\n",
              "      <th>bedrooms</th>\n",
              "      <th>bathrooms</th>\n",
              "      <th>stories</th>\n",
              "      <th>mainroad</th>\n",
              "      <th>guestroom</th>\n",
              "      <th>basement</th>\n",
              "      <th>hotwaterheating</th>\n",
              "      <th>airconditioning</th>\n",
              "      <th>parking</th>\n",
              "      <th>prefarea</th>\n",
              "      <th>furnishingstatus</th>\n",
              "    </tr>\n",
              "  </thead>\n",
              "  <tbody>\n",
              "    <tr>\n",
              "      <th>0</th>\n",
              "      <td>13300000</td>\n",
              "      <td>7420</td>\n",
              "      <td>4</td>\n",
              "      <td>2</td>\n",
              "      <td>3</td>\n",
              "      <td>yes</td>\n",
              "      <td>no</td>\n",
              "      <td>no</td>\n",
              "      <td>no</td>\n",
              "      <td>yes</td>\n",
              "      <td>2</td>\n",
              "      <td>yes</td>\n",
              "      <td>furnished</td>\n",
              "    </tr>\n",
              "    <tr>\n",
              "      <th>1</th>\n",
              "      <td>12250000</td>\n",
              "      <td>8960</td>\n",
              "      <td>4</td>\n",
              "      <td>4</td>\n",
              "      <td>4</td>\n",
              "      <td>yes</td>\n",
              "      <td>no</td>\n",
              "      <td>no</td>\n",
              "      <td>no</td>\n",
              "      <td>yes</td>\n",
              "      <td>3</td>\n",
              "      <td>no</td>\n",
              "      <td>furnished</td>\n",
              "    </tr>\n",
              "    <tr>\n",
              "      <th>2</th>\n",
              "      <td>12250000</td>\n",
              "      <td>9960</td>\n",
              "      <td>3</td>\n",
              "      <td>2</td>\n",
              "      <td>2</td>\n",
              "      <td>yes</td>\n",
              "      <td>no</td>\n",
              "      <td>yes</td>\n",
              "      <td>no</td>\n",
              "      <td>no</td>\n",
              "      <td>2</td>\n",
              "      <td>yes</td>\n",
              "      <td>semi-furnished</td>\n",
              "    </tr>\n",
              "    <tr>\n",
              "      <th>3</th>\n",
              "      <td>12215000</td>\n",
              "      <td>7500</td>\n",
              "      <td>4</td>\n",
              "      <td>2</td>\n",
              "      <td>2</td>\n",
              "      <td>yes</td>\n",
              "      <td>no</td>\n",
              "      <td>yes</td>\n",
              "      <td>no</td>\n",
              "      <td>yes</td>\n",
              "      <td>3</td>\n",
              "      <td>yes</td>\n",
              "      <td>furnished</td>\n",
              "    </tr>\n",
              "    <tr>\n",
              "      <th>4</th>\n",
              "      <td>11410000</td>\n",
              "      <td>7420</td>\n",
              "      <td>4</td>\n",
              "      <td>1</td>\n",
              "      <td>2</td>\n",
              "      <td>yes</td>\n",
              "      <td>yes</td>\n",
              "      <td>yes</td>\n",
              "      <td>no</td>\n",
              "      <td>yes</td>\n",
              "      <td>2</td>\n",
              "      <td>no</td>\n",
              "      <td>furnished</td>\n",
              "    </tr>\n",
              "  </tbody>\n",
              "</table>\n",
              "</div>"
            ],
            "text/plain": [
              "      price  area  bedrooms  bathrooms  stories mainroad guestroom basement  \\\n",
              "0  13300000  7420         4          2        3      yes        no       no   \n",
              "1  12250000  8960         4          4        4      yes        no       no   \n",
              "2  12250000  9960         3          2        2      yes        no      yes   \n",
              "3  12215000  7500         4          2        2      yes        no      yes   \n",
              "4  11410000  7420         4          1        2      yes       yes      yes   \n",
              "\n",
              "  hotwaterheating airconditioning  parking prefarea furnishingstatus  \n",
              "0              no             yes        2      yes        furnished  \n",
              "1              no             yes        3       no        furnished  \n",
              "2              no              no        2      yes   semi-furnished  \n",
              "3              no             yes        3      yes        furnished  \n",
              "4              no             yes        2       no        furnished  "
            ]
          },
          "execution_count": 7,
          "metadata": {},
          "output_type": "execute_result"
        }
      ],
      "source": [
        "#Importing the dataset\n",
        "import pandas as pd\n",
        "housing = pd.read_csv('Housing.csv')\n",
        "housing.head()"
      ]
    },
    {
      "cell_type": "code",
      "execution_count": null,
      "metadata": {
        "id": "2aqkBUCBCCi_"
      },
      "outputs": [],
      "source": [
        "# Converting Yes to 1 and No to 0\n",
        "housing['mainroad'] = housing['mainroad'].map({'yes': 1, 'no': 0})\n",
        "housing['guestroom'] = housing['guestroom'].map({'yes': 1, 'no': 0})\n",
        "housing['basement'] = housing['basement'].map({'yes': 1, 'no': 0})\n",
        "housing['hotwaterheating'] = housing['hotwaterheating'].map({'yes': 1, 'no': 0})\n",
        "housing['airconditioning'] = housing['airconditioning'].map({'yes': 1, 'no': 0})\n",
        "housing['prefarea'] = housing['prefarea'].map({'yes': 1, 'no': 0})"
      ]
    },
    {
      "cell_type": "code",
      "execution_count": null,
      "metadata": {
        "id": "L5kwkOZ8CCjA"
      },
      "outputs": [],
      "source": [
        "#Converting furnishingstatus column to binary column using get_dummies\n",
        "status = pd.get_dummies(housing['furnishingstatus'],drop_first=True)\n",
        "housing = pd.concat([housing,status],axis=1)\n",
        "housing.drop(['furnishingstatus'],axis=1,inplace=True)"
      ]
    },
    {
      "cell_type": "code",
      "execution_count": null,
      "metadata": {
        "id": "kJP2AlKUCCjB",
        "outputId": "28f45bfc-aed6-4240-9e39-498cab8b9a1e"
      },
      "outputs": [
        {
          "data": {
            "text/html": [
              "<div>\n",
              "<style scoped>\n",
              "    .dataframe tbody tr th:only-of-type {\n",
              "        vertical-align: middle;\n",
              "    }\n",
              "\n",
              "    .dataframe tbody tr th {\n",
              "        vertical-align: top;\n",
              "    }\n",
              "\n",
              "    .dataframe thead th {\n",
              "        text-align: right;\n",
              "    }\n",
              "</style>\n",
              "<table border=\"1\" class=\"dataframe\">\n",
              "  <thead>\n",
              "    <tr style=\"text-align: right;\">\n",
              "      <th></th>\n",
              "      <th>price</th>\n",
              "      <th>area</th>\n",
              "      <th>bedrooms</th>\n",
              "      <th>bathrooms</th>\n",
              "      <th>stories</th>\n",
              "      <th>mainroad</th>\n",
              "      <th>guestroom</th>\n",
              "      <th>basement</th>\n",
              "      <th>hotwaterheating</th>\n",
              "      <th>airconditioning</th>\n",
              "      <th>parking</th>\n",
              "      <th>prefarea</th>\n",
              "      <th>semi-furnished</th>\n",
              "      <th>unfurnished</th>\n",
              "    </tr>\n",
              "  </thead>\n",
              "  <tbody>\n",
              "    <tr>\n",
              "      <th>0</th>\n",
              "      <td>13300000</td>\n",
              "      <td>7420</td>\n",
              "      <td>4</td>\n",
              "      <td>2</td>\n",
              "      <td>3</td>\n",
              "      <td>1</td>\n",
              "      <td>0</td>\n",
              "      <td>0</td>\n",
              "      <td>0</td>\n",
              "      <td>1</td>\n",
              "      <td>2</td>\n",
              "      <td>1</td>\n",
              "      <td>0</td>\n",
              "      <td>0</td>\n",
              "    </tr>\n",
              "    <tr>\n",
              "      <th>1</th>\n",
              "      <td>12250000</td>\n",
              "      <td>8960</td>\n",
              "      <td>4</td>\n",
              "      <td>4</td>\n",
              "      <td>4</td>\n",
              "      <td>1</td>\n",
              "      <td>0</td>\n",
              "      <td>0</td>\n",
              "      <td>0</td>\n",
              "      <td>1</td>\n",
              "      <td>3</td>\n",
              "      <td>0</td>\n",
              "      <td>0</td>\n",
              "      <td>0</td>\n",
              "    </tr>\n",
              "    <tr>\n",
              "      <th>2</th>\n",
              "      <td>12250000</td>\n",
              "      <td>9960</td>\n",
              "      <td>3</td>\n",
              "      <td>2</td>\n",
              "      <td>2</td>\n",
              "      <td>1</td>\n",
              "      <td>0</td>\n",
              "      <td>1</td>\n",
              "      <td>0</td>\n",
              "      <td>0</td>\n",
              "      <td>2</td>\n",
              "      <td>1</td>\n",
              "      <td>1</td>\n",
              "      <td>0</td>\n",
              "    </tr>\n",
              "    <tr>\n",
              "      <th>3</th>\n",
              "      <td>12215000</td>\n",
              "      <td>7500</td>\n",
              "      <td>4</td>\n",
              "      <td>2</td>\n",
              "      <td>2</td>\n",
              "      <td>1</td>\n",
              "      <td>0</td>\n",
              "      <td>1</td>\n",
              "      <td>0</td>\n",
              "      <td>1</td>\n",
              "      <td>3</td>\n",
              "      <td>1</td>\n",
              "      <td>0</td>\n",
              "      <td>0</td>\n",
              "    </tr>\n",
              "    <tr>\n",
              "      <th>4</th>\n",
              "      <td>11410000</td>\n",
              "      <td>7420</td>\n",
              "      <td>4</td>\n",
              "      <td>1</td>\n",
              "      <td>2</td>\n",
              "      <td>1</td>\n",
              "      <td>1</td>\n",
              "      <td>1</td>\n",
              "      <td>0</td>\n",
              "      <td>1</td>\n",
              "      <td>2</td>\n",
              "      <td>0</td>\n",
              "      <td>0</td>\n",
              "      <td>0</td>\n",
              "    </tr>\n",
              "  </tbody>\n",
              "</table>\n",
              "</div>"
            ],
            "text/plain": [
              "      price  area  bedrooms  bathrooms  stories  mainroad  guestroom  \\\n",
              "0  13300000  7420         4          2        3         1          0   \n",
              "1  12250000  8960         4          4        4         1          0   \n",
              "2  12250000  9960         3          2        2         1          0   \n",
              "3  12215000  7500         4          2        2         1          0   \n",
              "4  11410000  7420         4          1        2         1          1   \n",
              "\n",
              "   basement  hotwaterheating  airconditioning  parking  prefarea  \\\n",
              "0         0                0                1        2         1   \n",
              "1         0                0                1        3         0   \n",
              "2         1                0                0        2         1   \n",
              "3         1                0                1        3         1   \n",
              "4         1                0                1        2         0   \n",
              "\n",
              "   semi-furnished  unfurnished  \n",
              "0               0            0  \n",
              "1               0            0  \n",
              "2               1            0  \n",
              "3               0            0  \n",
              "4               0            0  "
            ]
          },
          "execution_count": 10,
          "metadata": {},
          "output_type": "execute_result"
        }
      ],
      "source": [
        "housing.head()"
      ]
    },
    {
      "cell_type": "code",
      "execution_count": null,
      "metadata": {
        "id": "3-V04fNkCCjC",
        "outputId": "dea3beb3-ffbf-4612-a969-496924dc6af4"
      },
      "outputs": [
        {
          "data": {
            "text/html": [
              "<div>\n",
              "<style scoped>\n",
              "    .dataframe tbody tr th:only-of-type {\n",
              "        vertical-align: middle;\n",
              "    }\n",
              "\n",
              "    .dataframe tbody tr th {\n",
              "        vertical-align: top;\n",
              "    }\n",
              "\n",
              "    .dataframe thead th {\n",
              "        text-align: right;\n",
              "    }\n",
              "</style>\n",
              "<table border=\"1\" class=\"dataframe\">\n",
              "  <thead>\n",
              "    <tr style=\"text-align: right;\">\n",
              "      <th></th>\n",
              "      <th>price</th>\n",
              "      <th>area</th>\n",
              "      <th>bedrooms</th>\n",
              "      <th>bathrooms</th>\n",
              "      <th>stories</th>\n",
              "      <th>mainroad</th>\n",
              "      <th>guestroom</th>\n",
              "      <th>basement</th>\n",
              "      <th>hotwaterheating</th>\n",
              "      <th>airconditioning</th>\n",
              "      <th>parking</th>\n",
              "      <th>prefarea</th>\n",
              "      <th>semi-furnished</th>\n",
              "      <th>unfurnished</th>\n",
              "    </tr>\n",
              "  </thead>\n",
              "  <tbody>\n",
              "    <tr>\n",
              "      <th>0</th>\n",
              "      <td>4.562174</td>\n",
              "      <td>1.045766</td>\n",
              "      <td>1.402131</td>\n",
              "      <td>1.420507</td>\n",
              "      <td>1.376952</td>\n",
              "      <td>0.405251</td>\n",
              "      <td>-0.464888</td>\n",
              "      <td>-0.733865</td>\n",
              "      <td>-0.219063</td>\n",
              "      <td>1.471267</td>\n",
              "      <td>1.516299</td>\n",
              "      <td>1.803284</td>\n",
              "      <td>-0.844113</td>\n",
              "      <td>-0.69579</td>\n",
              "    </tr>\n",
              "    <tr>\n",
              "      <th>1</th>\n",
              "      <td>4.000809</td>\n",
              "      <td>1.755397</td>\n",
              "      <td>1.402131</td>\n",
              "      <td>5.400847</td>\n",
              "      <td>2.529700</td>\n",
              "      <td>0.405251</td>\n",
              "      <td>-0.464888</td>\n",
              "      <td>-0.733865</td>\n",
              "      <td>-0.219063</td>\n",
              "      <td>1.471267</td>\n",
              "      <td>2.676950</td>\n",
              "      <td>-0.553526</td>\n",
              "      <td>-0.844113</td>\n",
              "      <td>-0.69579</td>\n",
              "    </tr>\n",
              "    <tr>\n",
              "      <th>2</th>\n",
              "      <td>4.000809</td>\n",
              "      <td>2.216196</td>\n",
              "      <td>0.047235</td>\n",
              "      <td>1.420507</td>\n",
              "      <td>0.224204</td>\n",
              "      <td>0.405251</td>\n",
              "      <td>-0.464888</td>\n",
              "      <td>1.360148</td>\n",
              "      <td>-0.219063</td>\n",
              "      <td>-0.678439</td>\n",
              "      <td>1.516299</td>\n",
              "      <td>1.803284</td>\n",
              "      <td>1.182502</td>\n",
              "      <td>-0.69579</td>\n",
              "    </tr>\n",
              "    <tr>\n",
              "      <th>3</th>\n",
              "      <td>3.982096</td>\n",
              "      <td>1.082630</td>\n",
              "      <td>1.402131</td>\n",
              "      <td>1.420507</td>\n",
              "      <td>0.224204</td>\n",
              "      <td>0.405251</td>\n",
              "      <td>-0.464888</td>\n",
              "      <td>1.360148</td>\n",
              "      <td>-0.219063</td>\n",
              "      <td>1.471267</td>\n",
              "      <td>2.676950</td>\n",
              "      <td>1.803284</td>\n",
              "      <td>-0.844113</td>\n",
              "      <td>-0.69579</td>\n",
              "    </tr>\n",
              "    <tr>\n",
              "      <th>4</th>\n",
              "      <td>3.551716</td>\n",
              "      <td>1.045766</td>\n",
              "      <td>1.402131</td>\n",
              "      <td>-0.569663</td>\n",
              "      <td>0.224204</td>\n",
              "      <td>0.405251</td>\n",
              "      <td>2.147110</td>\n",
              "      <td>1.360148</td>\n",
              "      <td>-0.219063</td>\n",
              "      <td>1.471267</td>\n",
              "      <td>1.516299</td>\n",
              "      <td>-0.553526</td>\n",
              "      <td>-0.844113</td>\n",
              "      <td>-0.69579</td>\n",
              "    </tr>\n",
              "  </tbody>\n",
              "</table>\n",
              "</div>"
            ],
            "text/plain": [
              "      price      area  bedrooms  bathrooms   stories  mainroad  guestroom  \\\n",
              "0  4.562174  1.045766  1.402131   1.420507  1.376952  0.405251  -0.464888   \n",
              "1  4.000809  1.755397  1.402131   5.400847  2.529700  0.405251  -0.464888   \n",
              "2  4.000809  2.216196  0.047235   1.420507  0.224204  0.405251  -0.464888   \n",
              "3  3.982096  1.082630  1.402131   1.420507  0.224204  0.405251  -0.464888   \n",
              "4  3.551716  1.045766  1.402131  -0.569663  0.224204  0.405251   2.147110   \n",
              "\n",
              "   basement  hotwaterheating  airconditioning   parking  prefarea  \\\n",
              "0 -0.733865        -0.219063         1.471267  1.516299  1.803284   \n",
              "1 -0.733865        -0.219063         1.471267  2.676950 -0.553526   \n",
              "2  1.360148        -0.219063        -0.678439  1.516299  1.803284   \n",
              "3  1.360148        -0.219063         1.471267  2.676950  1.803284   \n",
              "4  1.360148        -0.219063         1.471267  1.516299 -0.553526   \n",
              "\n",
              "   semi-furnished  unfurnished  \n",
              "0       -0.844113     -0.69579  \n",
              "1       -0.844113     -0.69579  \n",
              "2        1.182502     -0.69579  \n",
              "3       -0.844113     -0.69579  \n",
              "4       -0.844113     -0.69579  "
            ]
          },
          "execution_count": 11,
          "metadata": {},
          "output_type": "execute_result"
        }
      ],
      "source": [
        "# Normalisisng the data\n",
        "housing = (housing - housing.mean())/housing.std()\n",
        "housing.head()"
      ]
    },
    {
      "cell_type": "code",
      "execution_count": null,
      "metadata": {
        "id": "jDNdyb_JCCjD"
      },
      "outputs": [],
      "source": [
        "# Simple linear regression\n",
        "# Assign feature variable X\n",
        "X = housing['area']\n",
        "\n",
        "# Assign response variable to y\n",
        "y = housing['price']"
      ]
    },
    {
      "cell_type": "code",
      "execution_count": null,
      "metadata": {
        "id": "5IoM6diCCCjD"
      },
      "outputs": [],
      "source": [
        "# Conventional way to import seaborn\n",
        "import seaborn as sns\n",
        "\n",
        "# To visualise in the notebook\n",
        "%matplotlib inline"
      ]
    },
    {
      "cell_type": "code",
      "execution_count": null,
      "metadata": {
        "id": "OvyYA5b2CCjE",
        "outputId": "d3a13537-e14b-4005-f077-9018f6328dad"
      },
      "outputs": [
        {
          "name": "stderr",
          "output_type": "stream",
          "text": [
            "c:\\users\\akash\\appdata\\local\\programs\\python\\python36\\lib\\site-packages\\seaborn\\axisgrid.py:2065: UserWarning: The `size` parameter has been renamed to `height`; pleaes update your code.\n",
            "  warnings.warn(msg, UserWarning)\n"
          ]
        },
        {
          "data": {
            "text/plain": [
              "<seaborn.axisgrid.PairGrid at 0x1f0ff842128>"
            ]
          },
          "execution_count": 14,
          "metadata": {},
          "output_type": "execute_result"
        },
        {
          "data": {
            "image/png": "[encoded data removed]",
            "text/plain": [
              "<matplotlib.figure.Figure at 0x1f0ff842240>"
            ]
          },
          "metadata": {
            "needs_background": "light"
          },
          "output_type": "display_data"
        }
      ],
      "source": [
        "# Visualise the relationship between the features and the response using scatterplots\n",
        "sns.pairplot(housing, x_vars='area', y_vars='price',size=7, aspect=0.7, kind='scatter')"
      ]
    },
    {
      "cell_type": "markdown",
      "metadata": {
        "id": "rpaAgwcICCjE"
      },
      "source": [
        "**For linear regression we use a cost function known as the mean squared error or MSE.**"
      ]
    },
    {
      "cell_type": "markdown",
      "metadata": {
        "id": "Drv43MYSCCjF"
      },
      "source": [
        "<img src=\"gd1.png\"/>"
      ]
    },
    {
      "cell_type": "markdown",
      "metadata": {
        "id": "_iLD2FIMCCjF"
      },
      "source": [
        "Now we will apply partial derivative with respect to m and c and will equate it to zero to find the least value of m and c for which our cost function get the lowest value as possible."
      ]
    },
    {
      "cell_type": "markdown",
      "metadata": {
        "id": "paMn1NdvCCjF"
      },
      "source": [
        "<img src=\"gd2.png\"/>"
      ]
    },
    {
      "cell_type": "markdown",
      "metadata": {
        "id": "wxmdTAX_CCjG"
      },
      "source": [
        "Now to apply gradient descent from scratch we need our X and y variables as numpy arrays, Let's convert them."
      ]
    },
    {
      "cell_type": "code",
      "execution_count": null,
      "metadata": {
        "id": "Qawf0o-NCCjG"
      },
      "outputs": [],
      "source": [
        "import numpy as np\n",
        "X = np.array(X)\n",
        "y = np.array(y)"
      ]
    },
    {
      "cell_type": "code",
      "execution_count": null,
      "metadata": {
        "id": "OAPSfLdhCCjG"
      },
      "outputs": [],
      "source": [
        "# Implement gradient descent function\n",
        "# Takes in X, y, current m and c (both initialised to 0), num_iterations, learning rate\n",
        "# returns gradient at current m and c for each pair of m and c\n",
        "\n",
        "def gradient(X, y, m_current=0, c_current=0, iters=1000, learning_rate=0.01):\n",
        "    N = float(len(y))\n",
        "    gd_df = pd.DataFrame( columns = ['m_current', 'c_current','cost'])\n",
        "    for i in range(iters):\n",
        "        y_current = (m_current * X) + c_current\n",
        "        cost = sum([data**2 for data in (y-y_current)]) / N\n",
        "        m_gradient = -(2/N) * sum(X * (y - y_current))\n",
        "        c_gradient = -(2/N) * sum(y - y_current)\n",
        "        m_current = m_current - (learning_rate * m_gradient)\n",
        "        c_current = c_current - (learning_rate * c_gradient)\n",
        "        gd_df.loc[i] = [m_current,c_current,cost]\n",
        "    return(gd_df)\n"
      ]
    },
    {
      "cell_type": "code",
      "execution_count": null,
      "metadata": {
        "id": "3Ynhu6mWCCjH",
        "outputId": "5cbab69f-24f0-484e-ecd2-e20b73459eeb"
      },
      "outputs": [
        {
          "data": {
            "text/html": [
              "<div>\n",
              "<style scoped>\n",
              "    .dataframe tbody tr th:only-of-type {\n",
              "        vertical-align: middle;\n",
              "    }\n",
              "\n",
              "    .dataframe tbody tr th {\n",
              "        vertical-align: top;\n",
              "    }\n",
              "\n",
              "    .dataframe thead th {\n",
              "        text-align: right;\n",
              "    }\n",
              "</style>\n",
              "<table border=\"1\" class=\"dataframe\">\n",
              "  <thead>\n",
              "    <tr style=\"text-align: right;\">\n",
              "      <th></th>\n",
              "      <th>m_current</th>\n",
              "      <th>c_current</th>\n",
              "      <th>cost</th>\n",
              "    </tr>\n",
              "  </thead>\n",
              "  <tbody>\n",
              "    <tr>\n",
              "      <th>0</th>\n",
              "      <td>0.010700</td>\n",
              "      <td>5.117211e-18</td>\n",
              "      <td>0.998165</td>\n",
              "    </tr>\n",
              "    <tr>\n",
              "      <th>1</th>\n",
              "      <td>0.021187</td>\n",
              "      <td>2.230224e-17</td>\n",
              "      <td>0.986830</td>\n",
              "    </tr>\n",
              "    <tr>\n",
              "      <th>2</th>\n",
              "      <td>0.031464</td>\n",
              "      <td>3.243888e-17</td>\n",
              "      <td>0.975943</td>\n",
              "    </tr>\n",
              "    <tr>\n",
              "      <th>3</th>\n",
              "      <td>0.041536</td>\n",
              "      <td>3.045067e-17</td>\n",
              "      <td>0.965486</td>\n",
              "    </tr>\n",
              "    <tr>\n",
              "      <th>4</th>\n",
              "      <td>0.051407</td>\n",
              "      <td>2.675943e-17</td>\n",
              "      <td>0.955442</td>\n",
              "    </tr>\n",
              "    <tr>\n",
              "      <th>5</th>\n",
              "      <td>0.061081</td>\n",
              "      <td>3.053215e-17</td>\n",
              "      <td>0.945796</td>\n",
              "    </tr>\n",
              "    <tr>\n",
              "      <th>6</th>\n",
              "      <td>0.070562</td>\n",
              "      <td>3.956876e-17</td>\n",
              "      <td>0.936530</td>\n",
              "    </tr>\n",
              "    <tr>\n",
              "      <th>7</th>\n",
              "      <td>0.079854</td>\n",
              "      <td>4.067694e-17</td>\n",
              "      <td>0.927631</td>\n",
              "    </tr>\n",
              "    <tr>\n",
              "      <th>8</th>\n",
              "      <td>0.088960</td>\n",
              "      <td>4.414817e-17</td>\n",
              "      <td>0.919084</td>\n",
              "    </tr>\n",
              "    <tr>\n",
              "      <th>9</th>\n",
              "      <td>0.097884</td>\n",
              "      <td>5.958944e-17</td>\n",
              "      <td>0.910875</td>\n",
              "    </tr>\n",
              "    <tr>\n",
              "      <th>10</th>\n",
              "      <td>0.106631</td>\n",
              "      <td>7.075278e-17</td>\n",
              "      <td>0.902990</td>\n",
              "    </tr>\n",
              "    <tr>\n",
              "      <th>11</th>\n",
              "      <td>0.115202</td>\n",
              "      <td>7.441957e-17</td>\n",
              "      <td>0.895417</td>\n",
              "    </tr>\n",
              "    <tr>\n",
              "      <th>12</th>\n",
              "      <td>0.123603</td>\n",
              "      <td>8.180205e-17</td>\n",
              "      <td>0.888143</td>\n",
              "    </tr>\n",
              "    <tr>\n",
              "      <th>13</th>\n",
              "      <td>0.131835</td>\n",
              "      <td>7.853453e-17</td>\n",
              "      <td>0.881156</td>\n",
              "    </tr>\n",
              "    <tr>\n",
              "      <th>14</th>\n",
              "      <td>0.139904</td>\n",
              "      <td>7.635890e-17</td>\n",
              "      <td>0.874446</td>\n",
              "    </tr>\n",
              "    <tr>\n",
              "      <th>15</th>\n",
              "      <td>0.147811</td>\n",
              "      <td>7.726337e-17</td>\n",
              "      <td>0.868001</td>\n",
              "    </tr>\n",
              "    <tr>\n",
              "      <th>16</th>\n",
              "      <td>0.155561</td>\n",
              "      <td>7.746708e-17</td>\n",
              "      <td>0.861811</td>\n",
              "    </tr>\n",
              "    <tr>\n",
              "      <th>17</th>\n",
              "      <td>0.163155</td>\n",
              "      <td>7.424031e-17</td>\n",
              "      <td>0.855866</td>\n",
              "    </tr>\n",
              "    <tr>\n",
              "      <th>18</th>\n",
              "      <td>0.170599</td>\n",
              "      <td>7.903158e-17</td>\n",
              "      <td>0.850155</td>\n",
              "    </tr>\n",
              "    <tr>\n",
              "      <th>19</th>\n",
              "      <td>0.177893</td>\n",
              "      <td>8.634887e-17</td>\n",
              "      <td>0.844670</td>\n",
              "    </tr>\n",
              "    <tr>\n",
              "      <th>20</th>\n",
              "      <td>0.185042</td>\n",
              "      <td>8.980380e-17</td>\n",
              "      <td>0.839402</td>\n",
              "    </tr>\n",
              "    <tr>\n",
              "      <th>21</th>\n",
              "      <td>0.192048</td>\n",
              "      <td>9.254167e-17</td>\n",
              "      <td>0.834343</td>\n",
              "    </tr>\n",
              "    <tr>\n",
              "      <th>22</th>\n",
              "      <td>0.198915</td>\n",
              "      <td>9.106681e-17</td>\n",
              "      <td>0.829483</td>\n",
              "    </tr>\n",
              "    <tr>\n",
              "      <th>23</th>\n",
              "      <td>0.205644</td>\n",
              "      <td>1.027435e-16</td>\n",
              "      <td>0.824815</td>\n",
              "    </tr>\n",
              "    <tr>\n",
              "      <th>24</th>\n",
              "      <td>0.212239</td>\n",
              "      <td>9.862855e-17</td>\n",
              "      <td>0.820332</td>\n",
              "    </tr>\n",
              "    <tr>\n",
              "      <th>25</th>\n",
              "      <td>0.218702</td>\n",
              "      <td>1.083578e-16</td>\n",
              "      <td>0.816026</td>\n",
              "    </tr>\n",
              "    <tr>\n",
              "      <th>26</th>\n",
              "      <td>0.225036</td>\n",
              "      <td>1.098815e-16</td>\n",
              "      <td>0.811891</td>\n",
              "    </tr>\n",
              "    <tr>\n",
              "      <th>27</th>\n",
              "      <td>0.231244</td>\n",
              "      <td>1.180707e-16</td>\n",
              "      <td>0.807918</td>\n",
              "    </tr>\n",
              "    <tr>\n",
              "      <th>28</th>\n",
              "      <td>0.237328</td>\n",
              "      <td>1.171907e-16</td>\n",
              "      <td>0.804103</td>\n",
              "    </tr>\n",
              "    <tr>\n",
              "      <th>29</th>\n",
              "      <td>0.243291</td>\n",
              "      <td>1.133365e-16</td>\n",
              "      <td>0.800439</td>\n",
              "    </tr>\n",
              "    <tr>\n",
              "      <th>...</th>\n",
              "      <td>...</td>\n",
              "      <td>...</td>\n",
              "      <td>...</td>\n",
              "    </tr>\n",
              "    <tr>\n",
              "      <th>970</th>\n",
              "      <td>0.535997</td>\n",
              "      <td>2.443143e-16</td>\n",
              "      <td>0.711399</td>\n",
              "    </tr>\n",
              "    <tr>\n",
              "      <th>971</th>\n",
              "      <td>0.535997</td>\n",
              "      <td>2.390096e-16</td>\n",
              "      <td>0.711399</td>\n",
              "    </tr>\n",
              "    <tr>\n",
              "      <th>972</th>\n",
              "      <td>0.535997</td>\n",
              "      <td>2.342835e-16</td>\n",
              "      <td>0.711399</td>\n",
              "    </tr>\n",
              "    <tr>\n",
              "      <th>973</th>\n",
              "      <td>0.535997</td>\n",
              "      <td>2.354406e-16</td>\n",
              "      <td>0.711399</td>\n",
              "    </tr>\n",
              "    <tr>\n",
              "      <th>974</th>\n",
              "      <td>0.535997</td>\n",
              "      <td>2.394089e-16</td>\n",
              "      <td>0.711399</td>\n",
              "    </tr>\n",
              "    <tr>\n",
              "      <th>975</th>\n",
              "      <td>0.535997</td>\n",
              "      <td>2.387081e-16</td>\n",
              "      <td>0.711399</td>\n",
              "    </tr>\n",
              "    <tr>\n",
              "      <th>976</th>\n",
              "      <td>0.535997</td>\n",
              "      <td>2.433527e-16</td>\n",
              "      <td>0.711399</td>\n",
              "    </tr>\n",
              "    <tr>\n",
              "      <th>977</th>\n",
              "      <td>0.535997</td>\n",
              "      <td>2.499204e-16</td>\n",
              "      <td>0.711399</td>\n",
              "    </tr>\n",
              "    <tr>\n",
              "      <th>978</th>\n",
              "      <td>0.535997</td>\n",
              "      <td>2.527723e-16</td>\n",
              "      <td>0.711399</td>\n",
              "    </tr>\n",
              "    <tr>\n",
              "      <th>979</th>\n",
              "      <td>0.535997</td>\n",
              "      <td>2.451943e-16</td>\n",
              "      <td>0.711399</td>\n",
              "    </tr>\n",
              "    <tr>\n",
              "      <th>980</th>\n",
              "      <td>0.535997</td>\n",
              "      <td>2.493744e-16</td>\n",
              "      <td>0.711399</td>\n",
              "    </tr>\n",
              "    <tr>\n",
              "      <th>981</th>\n",
              "      <td>0.535997</td>\n",
              "      <td>2.428149e-16</td>\n",
              "      <td>0.711399</td>\n",
              "    </tr>\n",
              "    <tr>\n",
              "      <th>982</th>\n",
              "      <td>0.535997</td>\n",
              "      <td>2.500507e-16</td>\n",
              "      <td>0.711399</td>\n",
              "    </tr>\n",
              "    <tr>\n",
              "      <th>983</th>\n",
              "      <td>0.535997</td>\n",
              "      <td>2.535709e-16</td>\n",
              "      <td>0.711399</td>\n",
              "    </tr>\n",
              "    <tr>\n",
              "      <th>984</th>\n",
              "      <td>0.535997</td>\n",
              "      <td>2.509226e-16</td>\n",
              "      <td>0.711399</td>\n",
              "    </tr>\n",
              "    <tr>\n",
              "      <th>985</th>\n",
              "      <td>0.535997</td>\n",
              "      <td>2.389526e-16</td>\n",
              "      <td>0.711399</td>\n",
              "    </tr>\n",
              "    <tr>\n",
              "      <th>986</th>\n",
              "      <td>0.535997</td>\n",
              "      <td>2.490974e-16</td>\n",
              "      <td>0.711399</td>\n",
              "    </tr>\n",
              "    <tr>\n",
              "      <th>987</th>\n",
              "      <td>0.535997</td>\n",
              "      <td>2.569036e-16</td>\n",
              "      <td>0.711399</td>\n",
              "    </tr>\n",
              "    <tr>\n",
              "      <th>988</th>\n",
              "      <td>0.535997</td>\n",
              "      <td>2.597229e-16</td>\n",
              "      <td>0.711399</td>\n",
              "    </tr>\n",
              "    <tr>\n",
              "      <th>989</th>\n",
              "      <td>0.535997</td>\n",
              "      <td>2.599511e-16</td>\n",
              "      <td>0.711399</td>\n",
              "    </tr>\n",
              "    <tr>\n",
              "      <th>990</th>\n",
              "      <td>0.535997</td>\n",
              "      <td>2.611570e-16</td>\n",
              "      <td>0.711399</td>\n",
              "    </tr>\n",
              "    <tr>\n",
              "      <th>991</th>\n",
              "      <td>0.535997</td>\n",
              "      <td>2.649950e-16</td>\n",
              "      <td>0.711399</td>\n",
              "    </tr>\n",
              "    <tr>\n",
              "      <th>992</th>\n",
              "      <td>0.535997</td>\n",
              "      <td>2.723204e-16</td>\n",
              "      <td>0.711399</td>\n",
              "    </tr>\n",
              "    <tr>\n",
              "      <th>993</th>\n",
              "      <td>0.535997</td>\n",
              "      <td>2.736812e-16</td>\n",
              "      <td>0.711399</td>\n",
              "    </tr>\n",
              "    <tr>\n",
              "      <th>994</th>\n",
              "      <td>0.535997</td>\n",
              "      <td>2.709189e-16</td>\n",
              "      <td>0.711399</td>\n",
              "    </tr>\n",
              "    <tr>\n",
              "      <th>995</th>\n",
              "      <td>0.535997</td>\n",
              "      <td>2.630312e-16</td>\n",
              "      <td>0.711399</td>\n",
              "    </tr>\n",
              "    <tr>\n",
              "      <th>996</th>\n",
              "      <td>0.535997</td>\n",
              "      <td>2.560398e-16</td>\n",
              "      <td>0.711399</td>\n",
              "    </tr>\n",
              "    <tr>\n",
              "      <th>997</th>\n",
              "      <td>0.535997</td>\n",
              "      <td>2.557220e-16</td>\n",
              "      <td>0.711399</td>\n",
              "    </tr>\n",
              "    <tr>\n",
              "      <th>998</th>\n",
              "      <td>0.535997</td>\n",
              "      <td>2.522997e-16</td>\n",
              "      <td>0.711399</td>\n",
              "    </tr>\n",
              "    <tr>\n",
              "      <th>999</th>\n",
              "      <td>0.535997</td>\n",
              "      <td>2.544835e-16</td>\n",
              "      <td>0.711399</td>\n",
              "    </tr>\n",
              "  </tbody>\n",
              "</table>\n",
              "<p>1000 rows × 3 columns</p>\n",
              "</div>"
            ],
            "text/plain": [
              "     m_current     c_current      cost\n",
              "0     0.010700  5.117211e-18  0.998165\n",
              "1     0.021187  2.230224e-17  0.986830\n",
              "2     0.031464  3.243888e-17  0.975943\n",
              "3     0.041536  3.045067e-17  0.965486\n",
              "4     0.051407  2.675943e-17  0.955442\n",
              "5     0.061081  3.053215e-17  0.945796\n",
              "6     0.070562  3.956876e-17  0.936530\n",
              "7     0.079854  4.067694e-17  0.927631\n",
              "8     0.088960  4.414817e-17  0.919084\n",
              "9     0.097884  5.958944e-17  0.910875\n",
              "10    0.106631  7.075278e-17  0.902990\n",
              "11    0.115202  7.441957e-17  0.895417\n",
              "12    0.123603  8.180205e-17  0.888143\n",
              "13    0.131835  7.853453e-17  0.881156\n",
              "14    0.139904  7.635890e-17  0.874446\n",
              "15    0.147811  7.726337e-17  0.868001\n",
              "16    0.155561  7.746708e-17  0.861811\n",
              "17    0.163155  7.424031e-17  0.855866\n",
              "18    0.170599  7.903158e-17  0.850155\n",
              "19    0.177893  8.634887e-17  0.844670\n",
              "20    0.185042  8.980380e-17  0.839402\n",
              "21    0.192048  9.254167e-17  0.834343\n",
              "22    0.198915  9.106681e-17  0.829483\n",
              "23    0.205644  1.027435e-16  0.824815\n",
              "24    0.212239  9.862855e-17  0.820332\n",
              "25    0.218702  1.083578e-16  0.816026\n",
              "26    0.225036  1.098815e-16  0.811891\n",
              "27    0.231244  1.180707e-16  0.807918\n",
              "28    0.237328  1.171907e-16  0.804103\n",
              "29    0.243291  1.133365e-16  0.800439\n",
              "..         ...           ...       ...\n",
              "970   0.535997  2.443143e-16  0.711399\n",
              "971   0.535997  2.390096e-16  0.711399\n",
              "972   0.535997  2.342835e-16  0.711399\n",
              "973   0.535997  2.354406e-16  0.711399\n",
              "974   0.535997  2.394089e-16  0.711399\n",
              "975   0.535997  2.387081e-16  0.711399\n",
              "976   0.535997  2.433527e-16  0.711399\n",
              "977   0.535997  2.499204e-16  0.711399\n",
              "978   0.535997  2.527723e-16  0.711399\n",
              "979   0.535997  2.451943e-16  0.711399\n",
              "980   0.535997  2.493744e-16  0.711399\n",
              "981   0.535997  2.428149e-16  0.711399\n",
              "982   0.535997  2.500507e-16  0.711399\n",
              "983   0.535997  2.535709e-16  0.711399\n",
              "984   0.535997  2.509226e-16  0.711399\n",
              "985   0.535997  2.389526e-16  0.711399\n",
              "986   0.535997  2.490974e-16  0.711399\n",
              "987   0.535997  2.569036e-16  0.711399\n",
              "988   0.535997  2.597229e-16  0.711399\n",
              "989   0.535997  2.599511e-16  0.711399\n",
              "990   0.535997  2.611570e-16  0.711399\n",
              "991   0.535997  2.649950e-16  0.711399\n",
              "992   0.535997  2.723204e-16  0.711399\n",
              "993   0.535997  2.736812e-16  0.711399\n",
              "994   0.535997  2.709189e-16  0.711399\n",
              "995   0.535997  2.630312e-16  0.711399\n",
              "996   0.535997  2.560398e-16  0.711399\n",
              "997   0.535997  2.557220e-16  0.711399\n",
              "998   0.535997  2.522997e-16  0.711399\n",
              "999   0.535997  2.544835e-16  0.711399\n",
              "\n",
              "[1000 rows x 3 columns]"
            ]
          },
          "execution_count": 17,
          "metadata": {},
          "output_type": "execute_result"
        }
      ],
      "source": [
        "# print gradients at multiple (m, c) pairs\n",
        "# notice that gradient decreased gradually towards 0\n",
        "# we have used 1000 iterations, can use more if needed\n",
        "gradients = gradient(X,y)\n",
        "gradients"
      ]
    },
    {
      "cell_type": "code",
      "execution_count": null,
      "metadata": {
        "scrolled": true,
        "id": "n7gBaVadCCjH",
        "outputId": "e0678edf-3163-4235-8183-503382e208cf"
      },
      "outputs": [
        {
          "data": {
            "text/plain": [
              "<matplotlib.axes._subplots.AxesSubplot at 0x1f0f9ac5588>"
            ]
          },
          "execution_count": 18,
          "metadata": {},
          "output_type": "execute_result"
        },
        {
          "data": {
            "image/png": "[encoded data removed]",
            "text/plain": [
              "<matplotlib.figure.Figure at 0x1f0ff955198>"
            ]
          },
          "metadata": {
            "needs_background": "light"
          },
          "output_type": "display_data"
        }
      ],
      "source": [
        "# plotting cost against num_iterations\n",
        "gradients.reset_index().plot.line(x='index', y=['cost'])"
      ]
    },
    {
      "cell_type": "code",
      "execution_count": null,
      "metadata": {
        "id": "ie43D1qlCCjI"
      },
      "outputs": [],
      "source": [
        "m_c"
      ]
    },
    {
      "cell_type": "markdown",
      "metadata": {
        "id": "v7JIRACvCCjI"
      },
      "source": [
        "### Multiple Regression: Applying Gradient Descent for Multiple (>1) Features"
      ]
    },
    {
      "cell_type": "code",
      "execution_count": null,
      "metadata": {
        "id": "xv6ipNWGCCjI"
      },
      "outputs": [],
      "source": [
        "# Assigning feature variable X\n",
        "X = housing[['area','bedrooms']]\n",
        "\n",
        "# Assigning response variable y\n",
        "y = housing['price']"
      ]
    },
    {
      "cell_type": "code",
      "execution_count": null,
      "metadata": {
        "id": "XWapEUnOCCjJ",
        "outputId": "4856b103-870e-4a84-80a4-10344449e435"
      },
      "outputs": [
        {
          "name": "stderr",
          "output_type": "stream",
          "text": [
            "/Library/Frameworks/Python.framework/Versions/3.5/lib/python3.5/site-packages/ipykernel_launcher.py:4: SettingWithCopyWarning: \n",
            "A value is trying to be set on a copy of a slice from a DataFrame.\n",
            "Try using .loc[row_indexer,col_indexer] = value instead\n",
            "\n",
            "See the caveats in the documentation: http://pandas.pydata.org/pandas-docs/stable/indexing.html#indexing-view-versus-copy\n",
            "  after removing the cwd from sys.path.\n",
            "/Library/Frameworks/Python.framework/Versions/3.5/lib/python3.5/site-packages/ipykernel_launcher.py:5: FutureWarning: '.reindex_axis' is deprecated and will be removed in a future version. Use '.reindex' instead.\n",
            "  \"\"\"\n"
          ]
        },
        {
          "data": {
            "text/html": [
              "<div>\n",
              "<style scoped>\n",
              "    .dataframe tbody tr th:only-of-type {\n",
              "        vertical-align: middle;\n",
              "    }\n",
              "\n",
              "    .dataframe tbody tr th {\n",
              "        vertical-align: top;\n",
              "    }\n",
              "\n",
              "    .dataframe thead th {\n",
              "        text-align: right;\n",
              "    }\n",
              "</style>\n",
              "<table border=\"1\" class=\"dataframe\">\n",
              "  <thead>\n",
              "    <tr style=\"text-align: right;\">\n",
              "      <th></th>\n",
              "      <th>intercept</th>\n",
              "      <th>area</th>\n",
              "      <th>bedrooms</th>\n",
              "    </tr>\n",
              "  </thead>\n",
              "  <tbody>\n",
              "    <tr>\n",
              "      <th>0</th>\n",
              "      <td>1</td>\n",
              "      <td>1.045766</td>\n",
              "      <td>1.402131</td>\n",
              "    </tr>\n",
              "    <tr>\n",
              "      <th>1</th>\n",
              "      <td>1</td>\n",
              "      <td>1.755397</td>\n",
              "      <td>1.402131</td>\n",
              "    </tr>\n",
              "    <tr>\n",
              "      <th>2</th>\n",
              "      <td>1</td>\n",
              "      <td>2.216196</td>\n",
              "      <td>0.047235</td>\n",
              "    </tr>\n",
              "    <tr>\n",
              "      <th>3</th>\n",
              "      <td>1</td>\n",
              "      <td>1.082630</td>\n",
              "      <td>1.402131</td>\n",
              "    </tr>\n",
              "    <tr>\n",
              "      <th>4</th>\n",
              "      <td>1</td>\n",
              "      <td>1.045766</td>\n",
              "      <td>1.402131</td>\n",
              "    </tr>\n",
              "  </tbody>\n",
              "</table>\n",
              "</div>"
            ],
            "text/plain": [
              "   intercept      area  bedrooms\n",
              "0          1  1.045766  1.402131\n",
              "1          1  1.755397  1.402131\n",
              "2          1  2.216196  0.047235\n",
              "3          1  1.082630  1.402131\n",
              "4          1  1.045766  1.402131"
            ]
          },
          "execution_count": 78,
          "metadata": {},
          "output_type": "execute_result"
        }
      ],
      "source": [
        "# Add a columns of 1s as an intercept to X.\n",
        "# The intercept column is needed for convenient matrix representation of cost function\n",
        "\n",
        "X['intercept'] = 1\n",
        "X = X.reindex_axis(['intercept','area','bedrooms'], axis=1)\n",
        "X.head()"
      ]
    },
    {
      "cell_type": "code",
      "execution_count": null,
      "metadata": {
        "id": "2-allIFiCCjJ"
      },
      "outputs": [],
      "source": [
        "# Convert X and y to arrays\n",
        "import numpy as np\n",
        "X = np.array(X)\n",
        "y = np.array(y)"
      ]
    },
    {
      "cell_type": "code",
      "execution_count": null,
      "metadata": {
        "id": "SkwwGA2iCCjK"
      },
      "outputs": [],
      "source": [
        "# Theta is the vector representing coefficients (intercept, area, bedrooms)\n",
        "theta = np.matrix(np.array([0,0,0])) \n",
        "alpha = 0.01\n",
        "iterations = 1000"
      ]
    },
    {
      "cell_type": "code",
      "execution_count": null,
      "metadata": {
        "id": "Ygt742lRCCjL"
      },
      "outputs": [],
      "source": [
        "# define cost function\n",
        "# takes in theta (current values of coefficients b0, b1, b2), X and y\n",
        "# returns total cost at current b0, b1, b2\n",
        "\n",
        "def compute_cost(X, y, theta):\n",
        "    return np.sum(np.square(np.matmul(X, theta) - y)) / (2 * len(y))"
      ]
    },
    {
      "cell_type": "markdown",
      "metadata": {
        "id": "n_o6NIZNCCjM"
      },
      "source": [
        "More on [Numpy Matmul](https://docs.scipy.org/doc/numpy/reference/generated/numpy.matmul.html)"
      ]
    },
    {
      "cell_type": "markdown",
      "metadata": {
        "id": "wHUwmmOjCCjN"
      },
      "source": [
        "<img src=\"gd.png\"/>"
      ]
    },
    {
      "cell_type": "code",
      "execution_count": null,
      "metadata": {
        "id": "W_Grn5IeCCjO"
      },
      "outputs": [],
      "source": [
        "# gradient descent\n",
        "# takes in current X, y, learning rate alpha, num_iters\n",
        "# returns cost (notice it uses the cost function defined above)\n",
        "\n",
        "def gradient_descent_multi(X, y, theta, alpha, iterations):\n",
        "    theta = np.zeros(X.shape[1])\n",
        "    m = len(X)\n",
        "    gdm_df = pd.DataFrame( columns = ['Bets','cost'])\n",
        "\n",
        "    for i in range(iterations):\n",
        "        gradient = (1/m) * np.matmul(X.T, np.matmul(X, theta) - y)\n",
        "        theta = theta - alpha * gradient\n",
        "        cost = compute_cost(X, y, theta)\n",
        "        gdm_df.loc[i] = [theta,cost]\n",
        "\n",
        "    return gdm_df"
      ]
    },
    {
      "cell_type": "code",
      "execution_count": null,
      "metadata": {
        "id": "igbToQezCCjQ",
        "outputId": "27e7cb7d-6413-4492-e359-3d96f859a6c0"
      },
      "outputs": [
        {
          "data": {
            "text/html": [
              "<div>\n",
              "<style scoped>\n",
              "    .dataframe tbody tr th:only-of-type {\n",
              "        vertical-align: middle;\n",
              "    }\n",
              "\n",
              "    .dataframe tbody tr th {\n",
              "        vertical-align: top;\n",
              "    }\n",
              "\n",
              "    .dataframe thead th {\n",
              "        text-align: right;\n",
              "    }\n",
              "</style>\n",
              "<table border=\"1\" class=\"dataframe\">\n",
              "  <thead>\n",
              "    <tr style=\"text-align: right;\">\n",
              "      <th></th>\n",
              "      <th>Bets</th>\n",
              "      <th>cost</th>\n",
              "    </tr>\n",
              "  </thead>\n",
              "  <tbody>\n",
              "    <tr>\n",
              "      <th>0</th>\n",
              "      <td>[-2.28155924327e-19, 0.0053501386441, 0.003658...</td>\n",
              "      <td>0.494906</td>\n",
              "    </tr>\n",
              "    <tr>\n",
              "      <th>1</th>\n",
              "      <td>[2.77861322126e-18, 0.0106413289519, 0.0072718...</td>\n",
              "      <td>0.490824</td>\n",
              "    </tr>\n",
              "    <tr>\n",
              "      <th>2</th>\n",
              "      <td>[4.77497755912e-18, 0.0158742269672, 0.0108413...</td>\n",
              "      <td>0.486834</td>\n",
              "    </tr>\n",
              "    <tr>\n",
              "      <th>3</th>\n",
              "      <td>[3.89087335236e-18, 0.0210494813749, 0.0143672...</td>\n",
              "      <td>0.482935</td>\n",
              "    </tr>\n",
              "    <tr>\n",
              "      <th>4</th>\n",
              "      <td>[6.53096333385e-18, 0.026167733584, 0.01785014...</td>\n",
              "      <td>0.479124</td>\n",
              "    </tr>\n",
              "    <tr>\n",
              "      <th>5</th>\n",
              "      <td>[8.67399933735e-18, 0.0312296178095, 0.0212905...</td>\n",
              "      <td>0.475400</td>\n",
              "    </tr>\n",
              "    <tr>\n",
              "      <th>6</th>\n",
              "      <td>[9.43587715608e-18, 0.0362357611536, 0.0246888...</td>\n",
              "      <td>0.471759</td>\n",
              "    </tr>\n",
              "    <tr>\n",
              "      <th>7</th>\n",
              "      <td>[1.12651987636e-17, 0.0411867836865, 0.0280457...</td>\n",
              "      <td>0.468202</td>\n",
              "    </tr>\n",
              "    <tr>\n",
              "      <th>8</th>\n",
              "      <td>[1.09840780712e-17, 0.0460832985249, 0.0313615...</td>\n",
              "      <td>0.464724</td>\n",
              "    </tr>\n",
              "    <tr>\n",
              "      <th>9</th>\n",
              "      <td>[1.416196416e-17, 0.0509259119111, 0.034636904...</td>\n",
              "      <td>0.461326</td>\n",
              "    </tr>\n",
              "    <tr>\n",
              "      <th>10</th>\n",
              "      <td>[1.67246440957e-17, 0.0557152232903, 0.0378721...</td>\n",
              "      <td>0.458005</td>\n",
              "    </tr>\n",
              "    <tr>\n",
              "      <th>11</th>\n",
              "      <td>[1.97232648155e-17, 0.0604518253875, 0.0410679...</td>\n",
              "      <td>0.454758</td>\n",
              "    </tr>\n",
              "    <tr>\n",
              "      <th>12</th>\n",
              "      <td>[2.33126464107e-17, 0.0651363042828, 0.0442245...</td>\n",
              "      <td>0.451586</td>\n",
              "    </tr>\n",
              "    <tr>\n",
              "      <th>13</th>\n",
              "      <td>[2.84135610045e-17, 0.069769239487, 0.04734263...</td>\n",
              "      <td>0.448485</td>\n",
              "    </tr>\n",
              "    <tr>\n",
              "      <th>14</th>\n",
              "      <td>[3.0308070019e-17, 0.0743512040152, 0.05042253...</td>\n",
              "      <td>0.445454</td>\n",
              "    </tr>\n",
              "    <tr>\n",
              "      <th>15</th>\n",
              "      <td>[3.17218219073e-17, 0.0788827644604, 0.0534647...</td>\n",
              "      <td>0.442492</td>\n",
              "    </tr>\n",
              "    <tr>\n",
              "      <th>16</th>\n",
              "      <td>[3.46389583683e-17, 0.0833644810658, 0.0564697...</td>\n",
              "      <td>0.439597</td>\n",
              "    </tr>\n",
              "    <tr>\n",
              "      <th>17</th>\n",
              "      <td>[3.85420543595e-17, 0.0877969077964, 0.0594379...</td>\n",
              "      <td>0.436768</td>\n",
              "    </tr>\n",
              "    <tr>\n",
              "      <th>18</th>\n",
              "      <td>[4.34840746489e-17, 0.0921805924096, 0.0623697...</td>\n",
              "      <td>0.434002</td>\n",
              "    </tr>\n",
              "    <tr>\n",
              "      <th>19</th>\n",
              "      <td>[4.59937898165e-17, 0.0965160765257, 0.0652656...</td>\n",
              "      <td>0.431299</td>\n",
              "    </tr>\n",
              "    <tr>\n",
              "      <th>20</th>\n",
              "      <td>[4.7016417263e-17, 0.100803895697, 0.068126155...</td>\n",
              "      <td>0.428658</td>\n",
              "    </tr>\n",
              "    <tr>\n",
              "      <th>21</th>\n",
              "      <td>[4.90494495173e-17, 0.105044579475, 0.07095156...</td>\n",
              "      <td>0.426076</td>\n",
              "    </tr>\n",
              "    <tr>\n",
              "      <th>22</th>\n",
              "      <td>[4.99742958534e-17, 0.109238651481, 0.07374233...</td>\n",
              "      <td>0.423552</td>\n",
              "    </tr>\n",
              "    <tr>\n",
              "      <th>23</th>\n",
              "      <td>[5.20276991723e-17, 0.113386629469, 0.07649889...</td>\n",
              "      <td>0.421086</td>\n",
              "    </tr>\n",
              "    <tr>\n",
              "      <th>24</th>\n",
              "      <td>[5.34210799959e-17, 0.117489025395, 0.07922165...</td>\n",
              "      <td>0.418676</td>\n",
              "    </tr>\n",
              "    <tr>\n",
              "      <th>25</th>\n",
              "      <td>[5.60326504869e-17, 0.121546345481, 0.08191102...</td>\n",
              "      <td>0.416320</td>\n",
              "    </tr>\n",
              "    <tr>\n",
              "      <th>26</th>\n",
              "      <td>[5.72304690896e-17, 0.12555909028, 0.084567388...</td>\n",
              "      <td>0.414017</td>\n",
              "    </tr>\n",
              "    <tr>\n",
              "      <th>27</th>\n",
              "      <td>[5.94590635647e-17, 0.129527754741, 0.08719115...</td>\n",
              "      <td>0.411766</td>\n",
              "    </tr>\n",
              "    <tr>\n",
              "      <th>28</th>\n",
              "      <td>[6.11743072101e-17, 0.133452828268, 0.08978272...</td>\n",
              "      <td>0.409567</td>\n",
              "    </tr>\n",
              "    <tr>\n",
              "      <th>29</th>\n",
              "      <td>[6.29099219201e-17, 0.137334794787, 0.09234247...</td>\n",
              "      <td>0.407417</td>\n",
              "    </tr>\n",
              "    <tr>\n",
              "      <th>...</th>\n",
              "      <td>...</td>\n",
              "      <td>...</td>\n",
              "    </tr>\n",
              "    <tr>\n",
              "      <th>970</th>\n",
              "      <td>[3.35364763483e-16, 0.491649595045, 0.29184889...</td>\n",
              "      <td>0.314176</td>\n",
              "    </tr>\n",
              "    <tr>\n",
              "      <th>971</th>\n",
              "      <td>[3.35181423901e-16, 0.491649874732, 0.29184873...</td>\n",
              "      <td>0.314176</td>\n",
              "    </tr>\n",
              "    <tr>\n",
              "      <th>972</th>\n",
              "      <td>[3.3433398761e-16, 0.49165015187, 0.291848572416]</td>\n",
              "      <td>0.314176</td>\n",
              "    </tr>\n",
              "    <tr>\n",
              "      <th>973</th>\n",
              "      <td>[3.32150209477e-16, 0.491650426482, 0.29184841...</td>\n",
              "      <td>0.314176</td>\n",
              "    </tr>\n",
              "    <tr>\n",
              "      <th>974</th>\n",
              "      <td>[3.29803462827e-16, 0.491650698592, 0.29184825...</td>\n",
              "      <td>0.314176</td>\n",
              "    </tr>\n",
              "    <tr>\n",
              "      <th>975</th>\n",
              "      <td>[3.30223106759e-16, 0.491650968223, 0.29184810...</td>\n",
              "      <td>0.314176</td>\n",
              "    </tr>\n",
              "    <tr>\n",
              "      <th>976</th>\n",
              "      <td>[3.30259774676e-16, 0.491651235398, 0.29184794...</td>\n",
              "      <td>0.314176</td>\n",
              "    </tr>\n",
              "    <tr>\n",
              "      <th>977</th>\n",
              "      <td>[3.30479782174e-16, 0.49165150014, 0.291847795...</td>\n",
              "      <td>0.314176</td>\n",
              "    </tr>\n",
              "    <tr>\n",
              "      <th>978</th>\n",
              "      <td>[3.30870906616e-16, 0.491651762472, 0.29184764...</td>\n",
              "      <td>0.314176</td>\n",
              "    </tr>\n",
              "    <tr>\n",
              "      <th>979</th>\n",
              "      <td>[3.32288732717e-16, 0.491652022415, 0.29184749...</td>\n",
              "      <td>0.314176</td>\n",
              "    </tr>\n",
              "    <tr>\n",
              "      <th>980</th>\n",
              "      <td>[3.32484294938e-16, 0.491652279992, 0.29184734...</td>\n",
              "      <td>0.314176</td>\n",
              "    </tr>\n",
              "    <tr>\n",
              "      <th>981</th>\n",
              "      <td>[3.32793935121e-16, 0.491652535225, 0.29184719...</td>\n",
              "      <td>0.314176</td>\n",
              "    </tr>\n",
              "    <tr>\n",
              "      <th>982</th>\n",
              "      <td>[3.32802083547e-16, 0.491652788136, 0.29184704...</td>\n",
              "      <td>0.314176</td>\n",
              "    </tr>\n",
              "    <tr>\n",
              "      <th>983</th>\n",
              "      <td>[3.31738713971e-16, 0.491653038746, 0.29184690...</td>\n",
              "      <td>0.314176</td>\n",
              "    </tr>\n",
              "    <tr>\n",
              "      <th>984</th>\n",
              "      <td>[3.31339441103e-16, 0.491653287076, 0.29184675...</td>\n",
              "      <td>0.314176</td>\n",
              "    </tr>\n",
              "    <tr>\n",
              "      <th>985</th>\n",
              "      <td>[3.30610156988e-16, 0.491653533148, 0.29184661...</td>\n",
              "      <td>0.314176</td>\n",
              "    </tr>\n",
              "    <tr>\n",
              "      <th>986</th>\n",
              "      <td>[3.31009429856e-16, 0.491653776982, 0.29184646...</td>\n",
              "      <td>0.314176</td>\n",
              "    </tr>\n",
              "    <tr>\n",
              "      <th>987</th>\n",
              "      <td>[3.31979092534e-16, 0.4916540186, 0.291846325693]</td>\n",
              "      <td>0.314176</td>\n",
              "    </tr>\n",
              "    <tr>\n",
              "      <th>988</th>\n",
              "      <td>[3.32321326421e-16, 0.491654258021, 0.29184618...</td>\n",
              "      <td>0.314176</td>\n",
              "    </tr>\n",
              "    <tr>\n",
              "      <th>989</th>\n",
              "      <td>[3.32337623272e-16, 0.491654495267, 0.29184604...</td>\n",
              "      <td>0.314176</td>\n",
              "    </tr>\n",
              "    <tr>\n",
              "      <th>990</th>\n",
              "      <td>[3.3188945985e-16, 0.491654730356, 0.291845905...</td>\n",
              "      <td>0.314176</td>\n",
              "    </tr>\n",
              "    <tr>\n",
              "      <th>991</th>\n",
              "      <td>[3.31253882632e-16, 0.49165496331, 0.291845767...</td>\n",
              "      <td>0.314176</td>\n",
              "    </tr>\n",
              "    <tr>\n",
              "      <th>992</th>\n",
              "      <td>[3.31954647256e-16, 0.491655194147, 0.29184563...</td>\n",
              "      <td>0.314176</td>\n",
              "    </tr>\n",
              "    <tr>\n",
              "      <th>993</th>\n",
              "      <td>[3.30679418608e-16, 0.491655422888, 0.29184549...</td>\n",
              "      <td>0.314176</td>\n",
              "    </tr>\n",
              "    <tr>\n",
              "      <th>994</th>\n",
              "      <td>[3.3151463226e-16, 0.491655649552, 0.29184535979]</td>\n",
              "      <td>0.314176</td>\n",
              "    </tr>\n",
              "    <tr>\n",
              "      <th>995</th>\n",
              "      <td>[3.31714268693e-16, 0.491655874158, 0.29184522...</td>\n",
              "      <td>0.314176</td>\n",
              "    </tr>\n",
              "    <tr>\n",
              "      <th>996</th>\n",
              "      <td>[3.32064651006e-16, 0.491656096724, 0.29184509...</td>\n",
              "      <td>0.314176</td>\n",
              "    </tr>\n",
              "    <tr>\n",
              "      <th>997</th>\n",
              "      <td>[3.30903500319e-16, 0.491656317271, 0.29184496...</td>\n",
              "      <td>0.314176</td>\n",
              "    </tr>\n",
              "    <tr>\n",
              "      <th>998</th>\n",
              "      <td>[3.3147389013e-16, 0.491656535816, 0.29184483007]</td>\n",
              "      <td>0.314176</td>\n",
              "    </tr>\n",
              "    <tr>\n",
              "      <th>999</th>\n",
              "      <td>[3.32891716231e-16, 0.491656752379, 0.29184470...</td>\n",
              "      <td>0.314176</td>\n",
              "    </tr>\n",
              "  </tbody>\n",
              "</table>\n",
              "<p>1000 rows × 2 columns</p>\n",
              "</div>"
            ],
            "text/plain": [
              "                                                  Bets      cost\n",
              "0    [-2.28155924327e-19, 0.0053501386441, 0.003658...  0.494906\n",
              "1    [2.77861322126e-18, 0.0106413289519, 0.0072718...  0.490824\n",
              "2    [4.77497755912e-18, 0.0158742269672, 0.0108413...  0.486834\n",
              "3    [3.89087335236e-18, 0.0210494813749, 0.0143672...  0.482935\n",
              "4    [6.53096333385e-18, 0.026167733584, 0.01785014...  0.479124\n",
              "5    [8.67399933735e-18, 0.0312296178095, 0.0212905...  0.475400\n",
              "6    [9.43587715608e-18, 0.0362357611536, 0.0246888...  0.471759\n",
              "7    [1.12651987636e-17, 0.0411867836865, 0.0280457...  0.468202\n",
              "8    [1.09840780712e-17, 0.0460832985249, 0.0313615...  0.464724\n",
              "9    [1.416196416e-17, 0.0509259119111, 0.034636904...  0.461326\n",
              "10   [1.67246440957e-17, 0.0557152232903, 0.0378721...  0.458005\n",
              "11   [1.97232648155e-17, 0.0604518253875, 0.0410679...  0.454758\n",
              "12   [2.33126464107e-17, 0.0651363042828, 0.0442245...  0.451586\n",
              "13   [2.84135610045e-17, 0.069769239487, 0.04734263...  0.448485\n",
              "14   [3.0308070019e-17, 0.0743512040152, 0.05042253...  0.445454\n",
              "15   [3.17218219073e-17, 0.0788827644604, 0.0534647...  0.442492\n",
              "16   [3.46389583683e-17, 0.0833644810658, 0.0564697...  0.439597\n",
              "17   [3.85420543595e-17, 0.0877969077964, 0.0594379...  0.436768\n",
              "18   [4.34840746489e-17, 0.0921805924096, 0.0623697...  0.434002\n",
              "19   [4.59937898165e-17, 0.0965160765257, 0.0652656...  0.431299\n",
              "20   [4.7016417263e-17, 0.100803895697, 0.068126155...  0.428658\n",
              "21   [4.90494495173e-17, 0.105044579475, 0.07095156...  0.426076\n",
              "22   [4.99742958534e-17, 0.109238651481, 0.07374233...  0.423552\n",
              "23   [5.20276991723e-17, 0.113386629469, 0.07649889...  0.421086\n",
              "24   [5.34210799959e-17, 0.117489025395, 0.07922165...  0.418676\n",
              "25   [5.60326504869e-17, 0.121546345481, 0.08191102...  0.416320\n",
              "26   [5.72304690896e-17, 0.12555909028, 0.084567388...  0.414017\n",
              "27   [5.94590635647e-17, 0.129527754741, 0.08719115...  0.411766\n",
              "28   [6.11743072101e-17, 0.133452828268, 0.08978272...  0.409567\n",
              "29   [6.29099219201e-17, 0.137334794787, 0.09234247...  0.407417\n",
              "..                                                 ...       ...\n",
              "970  [3.35364763483e-16, 0.491649595045, 0.29184889...  0.314176\n",
              "971  [3.35181423901e-16, 0.491649874732, 0.29184873...  0.314176\n",
              "972  [3.3433398761e-16, 0.49165015187, 0.291848572416]  0.314176\n",
              "973  [3.32150209477e-16, 0.491650426482, 0.29184841...  0.314176\n",
              "974  [3.29803462827e-16, 0.491650698592, 0.29184825...  0.314176\n",
              "975  [3.30223106759e-16, 0.491650968223, 0.29184810...  0.314176\n",
              "976  [3.30259774676e-16, 0.491651235398, 0.29184794...  0.314176\n",
              "977  [3.30479782174e-16, 0.49165150014, 0.291847795...  0.314176\n",
              "978  [3.30870906616e-16, 0.491651762472, 0.29184764...  0.314176\n",
              "979  [3.32288732717e-16, 0.491652022415, 0.29184749...  0.314176\n",
              "980  [3.32484294938e-16, 0.491652279992, 0.29184734...  0.314176\n",
              "981  [3.32793935121e-16, 0.491652535225, 0.29184719...  0.314176\n",
              "982  [3.32802083547e-16, 0.491652788136, 0.29184704...  0.314176\n",
              "983  [3.31738713971e-16, 0.491653038746, 0.29184690...  0.314176\n",
              "984  [3.31339441103e-16, 0.491653287076, 0.29184675...  0.314176\n",
              "985  [3.30610156988e-16, 0.491653533148, 0.29184661...  0.314176\n",
              "986  [3.31009429856e-16, 0.491653776982, 0.29184646...  0.314176\n",
              "987  [3.31979092534e-16, 0.4916540186, 0.291846325693]  0.314176\n",
              "988  [3.32321326421e-16, 0.491654258021, 0.29184618...  0.314176\n",
              "989  [3.32337623272e-16, 0.491654495267, 0.29184604...  0.314176\n",
              "990  [3.3188945985e-16, 0.491654730356, 0.291845905...  0.314176\n",
              "991  [3.31253882632e-16, 0.49165496331, 0.291845767...  0.314176\n",
              "992  [3.31954647256e-16, 0.491655194147, 0.29184563...  0.314176\n",
              "993  [3.30679418608e-16, 0.491655422888, 0.29184549...  0.314176\n",
              "994  [3.3151463226e-16, 0.491655649552, 0.29184535979]  0.314176\n",
              "995  [3.31714268693e-16, 0.491655874158, 0.29184522...  0.314176\n",
              "996  [3.32064651006e-16, 0.491656096724, 0.29184509...  0.314176\n",
              "997  [3.30903500319e-16, 0.491656317271, 0.29184496...  0.314176\n",
              "998  [3.3147389013e-16, 0.491656535816, 0.29184483007]  0.314176\n",
              "999  [3.32891716231e-16, 0.491656752379, 0.29184470...  0.314176\n",
              "\n",
              "[1000 rows x 2 columns]"
            ]
          },
          "execution_count": 83,
          "metadata": {},
          "output_type": "execute_result"
        }
      ],
      "source": [
        "# print costs with various values of coefficients b0, b1, b2\n",
        "gradient_descent_multi(X, y, theta, alpha, iterations)"
      ]
    },
    {
      "cell_type": "code",
      "execution_count": null,
      "metadata": {
        "id": "qIOSBTjrCCjR",
        "outputId": "b9ebda23-ed99-479a-b4dc-31b69ea6d3b1"
      },
      "outputs": [
        {
          "name": "stderr",
          "output_type": "stream",
          "text": [
            "/Library/Frameworks/Python.framework/Versions/3.5/lib/python3.5/site-packages/pandas/plotting/_core.py:1714: UserWarning: Pandas doesn't allow columns to be created via a new attribute name - see https://pandas.pydata.org/pandas-docs/stable/indexing.html#attribute-access\n",
            "  series.name = label\n"
          ]
        },
        {
          "data": {
            "text/plain": [
              "<matplotlib.axes._subplots.AxesSubplot at 0x10d6a7400>"
            ]
          },
          "execution_count": 84,
          "metadata": {},
          "output_type": "execute_result"
        },
        {
          "data": {
            "image/png": "[encoded data removed]",
            "text/plain": [
              "<matplotlib.figure.Figure at 0x10d743780>"
            ]
          },
          "metadata": {},
          "output_type": "display_data"
        }
      ],
      "source": [
        "# print cost\n",
        "gradient_descent_multi(X, y, theta, alpha, iterations).reset_index().plot.line(x='index', y=['cost'])"
      ]
    }
  ],
  "metadata": {
    "kernelspec": {
      "display_name": "Python 3",
      "language": "python",
      "name": "python3"
    },
    "language_info": {
      "codemirror_mode": {
        "name": "ipython",
        "version": 3
      },
      "file_extension": ".py",
      "mimetype": "text/x-python",
      "name": "python",
      "nbconvert_exporter": "python",
      "pygments_lexer": "ipython3",
      "version": "3.6.8"
    },
    "colab": {
      "provenance": [],
      "include_colab_link": true
    }
  },
  "nbformat": 4,
  "nbformat_minor": 0
}